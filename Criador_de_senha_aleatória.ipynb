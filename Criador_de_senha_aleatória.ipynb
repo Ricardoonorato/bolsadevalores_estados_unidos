{
  "nbformat": 4,
  "nbformat_minor": 0,
  "metadata": {
    "colab": {
      "provenance": [],
      "authorship_tag": "ABX9TyNXOIwcCjhkUi6qfqGvUAPg",
      "include_colab_link": true
    },
    "kernelspec": {
      "name": "python3",
      "display_name": "Python 3"
    },
    "language_info": {
      "name": "python"
    }
  },
  "cells": [
    {
      "cell_type": "markdown",
      "metadata": {
        "id": "view-in-github",
        "colab_type": "text"
      },
      "source": [
        "<a href=\"https://colab.research.google.com/github/Ricardoonorato/bolsadevalores_estados_unidos/blob/main/Criador_de_senha_aleat%C3%B3ria.ipynb\" target=\"_parent\"><img src=\"https://colab.research.google.com/assets/colab-badge.svg\" alt=\"Open In Colab\"/></a>"
      ]
    },
    {
      "cell_type": "code",
      "source": [
        "\n",
        "import random\n",
        "import string\n",
        "\n",
        "def generate_random_password(length=12):\n",
        "    characters = string.ascii_letters + string.digits + string.punctuation\n",
        "    password = \"\".join(random.choice(characters) for i in range(length))\n",
        "    return password\n",
        "\n",
        "password = generate_random_password()\n",
        "print(\"Senha Aleatória:\", password)"
      ],
      "metadata": {
        "colab": {
          "base_uri": "https://localhost:8080/"
        },
        "id": "2g9LNOS8Whqb",
        "outputId": "13e6e883-328e-4f99-9b14-6c132c5d4cb0"
      },
      "execution_count": 3,
      "outputs": [
        {
          "output_type": "stream",
          "name": "stdout",
          "text": [
            "Senha Aleatória: S_e.2~Yn3fjR\n"
          ]
        }
      ]
    },
    {
      "cell_type": "code",
      "source": [
        "\n",
        "import sys\n",
        "\n",
        "investimento_inicial = float(input(\"Digite o valor do investimento inicial: \"))\n",
        "retorno = float(input(\"Digite o valor que recebeu: \"))\n",
        "\n",
        "roi = (retorno - investimento_inicial) / investimento_inicial * 100\n",
        "\n",
        "print(f\"ROI: {roi:.2f}%\")"
      ],
      "metadata": {
        "colab": {
          "base_uri": "https://localhost:8080/"
        },
        "id": "6Z6tbWrOdFep",
        "outputId": "235d72c0-2433-4b13-8ae3-6f6314f62363"
      },
      "execution_count": 6,
      "outputs": [
        {
          "output_type": "stream",
          "name": "stdout",
          "text": [
            "Digite o valor do investimento inicial: 100\n",
            "Digite o valor que recebeu: 150\n",
            "ROI: 50.00%\n"
          ]
        }
      ]
    },
    {
      "cell_type": "code",
      "source": [
        "\n",
        "import yfinance as yf\n",
        "\n",
        "acao = input(\"Digite o símbolo da ação (por exemplo, MSFT para Microsoft): \")\n",
        "\n",
        "acao_info = yf.Ticker(acao)\n",
        "\n",
        "acao_historico = acao_info.history(period=\"1d\")\n",
        "\n",
        "preco_atual = acao_historico[\"Close\"].values[0]\n",
        "\n",
        "print(f\"Preço atual da ação {acao}: R${preco_atual:.2f}\")"
      ],
      "metadata": {
        "colab": {
          "base_uri": "https://localhost:8080/"
        },
        "id": "lg_XPXERoBiC",
        "outputId": "1b478f30-0c24-4fab-d690-e4cbf332b0fc"
      },
      "execution_count": 25,
      "outputs": [
        {
          "output_type": "stream",
          "name": "stdout",
          "text": [
            "Digite o símbolo da ação (por exemplo, MSFT para Microsoft): Meta\n",
            "Preço atual da ação Meta: R$476.20\n"
          ]
        }
      ]
    }
  ]
}